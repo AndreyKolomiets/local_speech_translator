{
 "cells": [
  {
   "cell_type": "code",
   "execution_count": null,
   "id": "533b8ca8-484d-4c8d-aac3-b3a1cdcbc5c3",
   "metadata": {},
   "outputs": [],
   "source": [
    "import pyaudio\n",
    "from dotenv import load_dotenv"
   ]
  },
  {
   "cell_type": "code",
   "execution_count": null,
   "id": "e7dffc9e",
   "metadata": {},
   "outputs": [],
   "source": [
    "load_dotenv()"
   ]
  },
  {
   "cell_type": "code",
   "execution_count": null,
   "id": "e1601483",
   "metadata": {},
   "outputs": [],
   "source": [
    "audio_mock = pyaudio.PyAudio()"
   ]
  },
  {
   "cell_type": "code",
   "execution_count": null,
   "id": "ad003c0f",
   "metadata": {},
   "outputs": [],
   "source": [
    "device_idx = 0\n",
    "while True:\n",
    "    try:\n",
    "        print(audio_mock.get_device_info_by_index(device_index=device_idx))\n",
    "    except OSError:\n",
    "        print(f'no device with index {device_idx}, stopping')\n",
    "        break\n",
    "    device_idx += 1"
   ]
  },
  {
   "cell_type": "markdown",
   "id": "0f483b17-70bc-48ad-8a5f-e28894703132",
   "metadata": {},
   "source": [
    "Prompting may be useful for better translation. For all audios except the first one, previous audio transcript/translation may be used as a prompt\n",
    "\n",
    "Guide: https://cookbook.openai.com/examples/whisper_prompting_guide"
   ]
  }
 ],
 "metadata": {
  "kernelspec": {
   "display_name": "Python 3 (ipykernel)",
   "language": "python",
   "name": "python3"
  },
  "language_info": {
   "codemirror_mode": {
    "name": "ipython",
    "version": 3
   },
   "file_extension": ".py",
   "mimetype": "text/x-python",
   "name": "python",
   "nbconvert_exporter": "python",
   "pygments_lexer": "ipython3",
   "version": "3.10.15"
  }
 },
 "nbformat": 4,
 "nbformat_minor": 5
}
